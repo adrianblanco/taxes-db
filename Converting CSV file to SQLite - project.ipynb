{
 "cells": [
  {
   "cell_type": "code",
   "execution_count": 10,
   "metadata": {},
   "outputs": [],
   "source": [
    "import pandas as pd\n",
    "import sqlite3"
   ]
  },
  {
   "cell_type": "code",
   "execution_count": 6,
   "metadata": {},
   "outputs": [],
   "source": [
    "taxes_df = pd.read_csv(\"Collecting_Taxes-Full_Data_2012-13.csv\")\n"
   ]
  },
  {
   "cell_type": "code",
   "execution_count": 7,
   "metadata": {},
   "outputs": [
    {
     "data": {
      "text/html": [
       "<div>\n",
       "<style scoped>\n",
       "    .dataframe tbody tr th:only-of-type {\n",
       "        vertical-align: middle;\n",
       "    }\n",
       "\n",
       "    .dataframe tbody tr th {\n",
       "        vertical-align: top;\n",
       "    }\n",
       "\n",
       "    .dataframe thead th {\n",
       "        text-align: right;\n",
       "    }\n",
       "</style>\n",
       "<table border=\"1\" class=\"dataframe\">\n",
       "  <thead>\n",
       "    <tr style=\"text-align: right;\">\n",
       "      <th></th>\n",
       "      <th>Geo. Code</th>\n",
       "      <th>Inc. Group Code</th>\n",
       "      <th>Country</th>\n",
       "      <th>VATR</th>\n",
       "      <th>VATGCR</th>\n",
       "      <th>VATPROD</th>\n",
       "      <th>THRESHOLD</th>\n",
       "      <th>VATYEAR</th>\n",
       "      <th>CITR</th>\n",
       "      <th>CITPROD</th>\n",
       "      <th>...</th>\n",
       "      <th>CUSTOMS</th>\n",
       "      <th>CERTIFICATION</th>\n",
       "      <th>TAXSTAFF</th>\n",
       "      <th>PAYERTO STAFF</th>\n",
       "      <th>HYDRO-CARBON</th>\n",
       "      <th>PCGDP</th>\n",
       "      <th>AG</th>\n",
       "      <th>IMPORTS</th>\n",
       "      <th>PCONS</th>\n",
       "      <th>Unnamed: 34</th>\n",
       "    </tr>\n",
       "  </thead>\n",
       "  <tbody>\n",
       "    <tr>\n",
       "      <th>0</th>\n",
       "      <td>5.0</td>\n",
       "      <td>1.0</td>\n",
       "      <td>Islamic Republic of Afghanistan</td>\n",
       "      <td>3.5</td>\n",
       "      <td>64.2</td>\n",
       "      <td>0.60</td>\n",
       "      <td>NaN</td>\n",
       "      <td>NaN</td>\n",
       "      <td>20.0</td>\n",
       "      <td>0.07</td>\n",
       "      <td>...</td>\n",
       "      <td>0.0</td>\n",
       "      <td>1.0</td>\n",
       "      <td>NaN</td>\n",
       "      <td>NaN</td>\n",
       "      <td>0.0</td>\n",
       "      <td>968.0</td>\n",
       "      <td>20.8</td>\n",
       "      <td>63.4</td>\n",
       "      <td>96.5</td>\n",
       "      <td>NaN</td>\n",
       "    </tr>\n",
       "    <tr>\n",
       "      <th>1</th>\n",
       "      <td>2.0</td>\n",
       "      <td>2.0</td>\n",
       "      <td>Albania</td>\n",
       "      <td>20.0</td>\n",
       "      <td>50.7</td>\n",
       "      <td>0.45</td>\n",
       "      <td>50466.0</td>\n",
       "      <td>1996.0</td>\n",
       "      <td>10.0</td>\n",
       "      <td>0.49</td>\n",
       "      <td>...</td>\n",
       "      <td>0.0</td>\n",
       "      <td>1.0</td>\n",
       "      <td>0.41</td>\n",
       "      <td>56.7</td>\n",
       "      <td>0.0</td>\n",
       "      <td>7848.0</td>\n",
       "      <td>18.6</td>\n",
       "      <td>56.0</td>\n",
       "      <td>88.7</td>\n",
       "      <td>NaN</td>\n",
       "    </tr>\n",
       "  </tbody>\n",
       "</table>\n",
       "<p>2 rows × 35 columns</p>\n",
       "</div>"
      ],
      "text/plain": [
       "   Geo. Code  Inc. Group Code                          Country  VATR  VATGCR  \\\n",
       "0        5.0              1.0  Islamic Republic of Afghanistan   3.5    64.2   \n",
       "1        2.0              2.0                          Albania  20.0    50.7   \n",
       "\n",
       "   VATPROD  THRESHOLD  VATYEAR  CITR CITPROD     ...      CUSTOMS  \\\n",
       "0     0.60        NaN      NaN  20.0   0.07      ...          0.0   \n",
       "1     0.45    50466.0   1996.0  10.0   0.49      ...          0.0   \n",
       "\n",
       "   CERTIFICATION  TAXSTAFF PAYERTO STAFF  HYDRO-CARBON   PCGDP      AG  \\\n",
       "0            1.0       NaN           NaN           0.0   968.0   20.8    \n",
       "1            1.0      0.41          56.7           0.0  7848.0   18.6    \n",
       "\n",
       "  IMPORTS   PCONS Unnamed: 34  \n",
       "0   63.4    96.5          NaN  \n",
       "1   56.0    88.7          NaN  \n",
       "\n",
       "[2 rows x 35 columns]"
      ]
     },
     "execution_count": 7,
     "metadata": {},
     "output_type": "execute_result"
    }
   ],
   "source": [
    "taxes_df.head(2)"
   ]
  },
  {
   "cell_type": "code",
   "execution_count": 19,
   "metadata": {},
   "outputs": [
    {
     "data": {
      "text/plain": [
       "Index(['Geo. Code', 'Inc. Group Code', 'Country', 'VATR', 'VATGCR', 'VATPROD',\n",
       "       'THRESHOLD', 'VATYEAR', 'CITR', 'CITPROD', 'PITMINR', 'PITMAXR',\n",
       "       'PITMAXL', 'PITMINL', 'PITPROD', 'SSR', 'WEDGE', 'VATY', 'CITY', 'PITY',\n",
       "       'TAXY ', 'COST', 'FUNCTION', 'SARA', 'LTU', 'CUSTOMS', 'CERTIFICATION',\n",
       "       'TAXSTAFF', 'PAYERTO STAFF', 'HYDRO-CARBON', 'PCGDP', 'AG', 'IMPORTS',\n",
       "       'PCONS', 'Unnamed: 34'],\n",
       "      dtype='object')"
      ]
     },
     "execution_count": 19,
     "metadata": {},
     "output_type": "execute_result"
    }
   ],
   "source": [
    "taxes_df.columns"
   ]
  },
  {
   "cell_type": "code",
   "execution_count": 15,
   "metadata": {},
   "outputs": [],
   "source": [
    "# creates an empty db\n",
    "conn = sqlite3.connect(\"taxes.db\")"
   ]
  },
  {
   "cell_type": "code",
   "execution_count": 16,
   "metadata": {},
   "outputs": [
    {
     "name": "stderr",
     "output_type": "stream",
     "text": [
      "/Users/abr/.pyenv/versions/3.6.5/lib/python3.6/site-packages/pandas/core/generic.py:2127: UserWarning: The spaces in these column names will not be changed. In pandas versions < 0.14, spaces were converted to underscores.\n",
      "  dtype=dtype)\n"
     ]
    }
   ],
   "source": [
    "# creates a table in the db\n",
    "taxes_df.to_sql('countries', conn)"
   ]
  },
  {
   "cell_type": "code",
   "execution_count": null,
   "metadata": {},
   "outputs": [],
   "source": []
  }
 ],
 "metadata": {
  "kernelspec": {
   "display_name": "Python 3",
   "language": "python",
   "name": "python3"
  },
  "language_info": {
   "codemirror_mode": {
    "name": "ipython",
    "version": 3
   },
   "file_extension": ".py",
   "mimetype": "text/x-python",
   "name": "python",
   "nbconvert_exporter": "python",
   "pygments_lexer": "ipython3",
   "version": "3.6.5"
  }
 },
 "nbformat": 4,
 "nbformat_minor": 2
}
